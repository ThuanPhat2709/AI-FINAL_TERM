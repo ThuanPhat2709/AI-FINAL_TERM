{
  "nbformat": 4,
  "nbformat_minor": 0,
  "metadata": {
    "colab": {
      "name": "website.ipynb",
      "provenance": [],
      "authorship_tag": "ABX9TyN2g/JMf/ofeNp1FBh5/Hqj",
      "include_colab_link": true
    },
    "kernelspec": {
      "name": "python3",
      "display_name": "Python 3"
    },
    "language_info": {
      "name": "python"
    }
  },
  "cells": [
    {
      "cell_type": "markdown",
      "metadata": {
        "id": "view-in-github",
        "colab_type": "text"
      },
      "source": [
        "<a href=\"https://colab.research.google.com/github/ThuanPhat2709/AI-FINAL_TERM/blob/main/website.ipynb\" target=\"_parent\"><img src=\"https://colab.research.google.com/assets/colab-badge.svg\" alt=\"Open In Colab\"/></a>"
      ]
    },
    {
      "cell_type": "code",
      "execution_count": null,
      "metadata": {
        "colab": {
          "base_uri": "https://localhost:8080/"
        },
        "id": "oN2NGdYe4Ti_",
        "outputId": "74bfaf63-0a7d-4343-c13e-50a7372cd2e6"
      },
      "outputs": [
        {
          "output_type": "stream",
          "name": "stdout",
          "text": [
            "Mounted at /content/drive\n"
          ]
        }
      ],
      "source": [
        "from google.colab import drive\n",
        "drive.mount('/content/drive')"
      ]
    },
    {
      "cell_type": "code",
      "source": [
        "!pip install pyngrok"
      ],
      "metadata": {
        "colab": {
          "base_uri": "https://localhost:8080/"
        },
        "id": "AUYC8YLQ4fGW",
        "outputId": "73ce61a1-3701-4f5d-991d-25f9cf2d4dcf"
      },
      "execution_count": null,
      "outputs": [
        {
          "output_type": "stream",
          "name": "stdout",
          "text": [
            "Looking in indexes: https://pypi.org/simple, https://us-python.pkg.dev/colab-wheels/public/simple/\n",
            "Collecting pyngrok\n",
            "  Downloading pyngrok-5.1.0.tar.gz (745 kB)\n",
            "\u001b[K     |████████████████████████████████| 745 kB 8.2 MB/s \n",
            "\u001b[?25hRequirement already satisfied: PyYAML in /usr/local/lib/python3.7/dist-packages (from pyngrok) (3.13)\n",
            "Building wheels for collected packages: pyngrok\n",
            "  Building wheel for pyngrok (setup.py) ... \u001b[?25l\u001b[?25hdone\n",
            "  Created wheel for pyngrok: filename=pyngrok-5.1.0-py3-none-any.whl size=19007 sha256=f052e931b7853755974bb490e65898dde6cd083dd2bb9a4614eae57d4cbe5454\n",
            "  Stored in directory: /root/.cache/pip/wheels/bf/e6/af/ccf6598ecefecd44104069371795cb9b3afbcd16987f6ccfb3\n",
            "Successfully built pyngrok\n",
            "Installing collected packages: pyngrok\n",
            "Successfully installed pyngrok-5.1.0\n"
          ]
        }
      ]
    },
    {
      "cell_type": "code",
      "source": [
        "from flask import Flask, render_template\n",
        "from pyngrok import ngrok\n",
        "import matplotlib.pyplot as plt\n",
        "from tensorflow.keras.utils import img_to_array\n",
        "from tensorflow.keras.utils import load_img\n",
        "import numpy as np"
      ],
      "metadata": {
        "id": "SNz_1wJW4UV2"
      },
      "execution_count": null,
      "outputs": []
    },
    {
      "cell_type": "code",
      "source": [
        "port_no = 5000"
      ],
      "metadata": {
        "id": "6ftjDZLH4Y2m"
      },
      "execution_count": null,
      "outputs": []
    },
    {
      "cell_type": "code",
      "source": [
        "from tensorflow.keras.models import load_model\n",
        "model=load_model('/content/drive/MyDrive/modelfa73.h5')"
      ],
      "metadata": {
        "id": "8izITQrI4avu"
      },
      "execution_count": null,
      "outputs": []
    },
    {
      "cell_type": "code",
      "source": [
        "classNames={0: 'Front',\n",
        " 1: 'Turn Right 60°',\n",
        " 2: 'Turn Right 90°',\n",
        " 3: 'Turn Left 60°',\n",
        " 4: 'Turn Left 90°',\n",
        " 5: 'Turn up',\n",
        " 6: 'Turnright 60°up',\n",
        " 7: 'Turnright 60°down',\n",
        " 8: 'Turnleft 60°up',\n",
        " 9: 'Turnleft 60°down',\n",
        " 10:'Turn down'}\n"
      ],
      "metadata": {
        "id": "n604FmY14lTx"
      },
      "execution_count": null,
      "outputs": []
    },
    {
      "cell_type": "code",
      "source": [
        "def pred(path):\n",
        "  test_img=load_img(path,target_size=(150,150))\n",
        "  test_img= img_to_array(test_img)\n",
        "  test_img=test_img/255\n",
        "  test_img=np.expand_dims(test_img,axis=0)\n",
        "  result=model.predict(test_img)\n",
        "  final = np.argmax(result)\n",
        "  final = classNames[final]\n",
        "  return final\n",
        "  #predict(result)"
      ],
      "metadata": {
        "id": "hY2MyJaZ4rBg"
      },
      "execution_count": null,
      "outputs": []
    },
    {
      "cell_type": "code",
      "source": [
        "from flask import render_template_string, request\n",
        "app = Flask(__name__,template_folder='/content')\n",
        "ngrok.set_auth_token(\"2AQWReBkSiNVl2JnS4VkhcsNDHV_3atq1Ens5jZyvLChGDXyf\")\n",
        "public_url = ngrok.connect(port_no).public_url\n",
        "\n",
        "@app.route(\"/\",methods=[\"GET\"])\n",
        "def home():\n",
        "  return render_template(\"Face rotation.html\")\n",
        "\n",
        "@app.route(\"/\",methods=[\"POST\"])\n",
        "def predict():\n",
        "  imagefile = request.files['imagefile']\n",
        "  image_path = imagefile.filename\n",
        "  imagefile.save(image_path)\n",
        "  img_result = pred(image_path)\n",
        "  return render_template(\"Face rotation.html\",prediction=img_result,i_path=image_path)\n",
        "\n",
        "print(f\"to access gloable link please click {public_url}\")\n",
        "\n",
        "app.run(port=port_no)"
      ],
      "metadata": {
        "colab": {
          "base_uri": "https://localhost:8080/"
        },
        "id": "hI8b9rha4saB",
        "outputId": "6af99af5-2b13-4bdf-8f79-4de5e166d471"
      },
      "execution_count": null,
      "outputs": [
        {
          "output_type": "stream",
          "name": "stdout",
          "text": [
            "to access gloable link please click http://a188-34-82-23-104.ngrok.io\n",
            " * Serving Flask app \"__main__\" (lazy loading)\n",
            " * Environment: production\n",
            "\u001b[31m   WARNING: This is a development server. Do not use it in a production deployment.\u001b[0m\n",
            "\u001b[2m   Use a production WSGI server instead.\u001b[0m\n",
            " * Debug mode: off\n"
          ]
        },
        {
          "output_type": "stream",
          "name": "stderr",
          "text": [
            " * Running on http://127.0.0.1:5000/ (Press CTRL+C to quit)\n",
            "127.0.0.1 - - [22/Jun/2022 16:54:41] \"\u001b[37mGET / HTTP/1.1\u001b[0m\" 200 -\n",
            "127.0.0.1 - - [22/Jun/2022 16:54:42] \"\u001b[33mGET /favicon.ico HTTP/1.1\u001b[0m\" 404 -\n",
            "127.0.0.1 - - [22/Jun/2022 16:54:55] \"\u001b[37mPOST / HTTP/1.1\u001b[0m\" 200 -\n",
            "127.0.0.1 - - [22/Jun/2022 16:57:04] \"\u001b[37mPOST / HTTP/1.1\u001b[0m\" 200 -\n",
            "127.0.0.1 - - [22/Jun/2022 17:02:38] \"\u001b[37mPOST / HTTP/1.1\u001b[0m\" 200 -\n",
            "[2022-06-22 17:07:51,859] ERROR in app: Exception on / [POST]\n",
            "Traceback (most recent call last):\n",
            "  File \"/usr/local/lib/python3.7/dist-packages/flask/app.py\", line 2447, in wsgi_app\n",
            "    response = self.full_dispatch_request()\n",
            "  File \"/usr/local/lib/python3.7/dist-packages/flask/app.py\", line 1952, in full_dispatch_request\n",
            "    rv = self.handle_user_exception(e)\n",
            "  File \"/usr/local/lib/python3.7/dist-packages/flask/app.py\", line 1821, in handle_user_exception\n",
            "    reraise(exc_type, exc_value, tb)\n",
            "  File \"/usr/local/lib/python3.7/dist-packages/flask/_compat.py\", line 39, in reraise\n",
            "    raise value\n",
            "  File \"/usr/local/lib/python3.7/dist-packages/flask/app.py\", line 1950, in full_dispatch_request\n",
            "    rv = self.dispatch_request()\n",
            "  File \"/usr/local/lib/python3.7/dist-packages/flask/app.py\", line 1936, in dispatch_request\n",
            "    return self.view_functions[rule.endpoint](**req.view_args)\n",
            "  File \"<ipython-input-22-d8a299c77997>\", line 14, in predict\n",
            "    imagefile.save(image_path)\n",
            "  File \"/usr/local/lib/python3.7/dist-packages/werkzeug/datastructures.py\", line 3066, in save\n",
            "    dst = open(dst, \"wb\")\n",
            "FileNotFoundError: [Errno 2] No such file or directory: ''\n",
            "127.0.0.1 - - [22/Jun/2022 17:07:51] \"\u001b[35m\u001b[1mPOST / HTTP/1.1\u001b[0m\" 500 -\n",
            "127.0.0.1 - - [22/Jun/2022 17:08:16] \"\u001b[37mPOST / HTTP/1.1\u001b[0m\" 200 -\n"
          ]
        }
      ]
    },
    {
      "cell_type": "code",
      "source": [
        ""
      ],
      "metadata": {
        "id": "Gw3DfFre4uzs"
      },
      "execution_count": null,
      "outputs": []
    }
  ]
}